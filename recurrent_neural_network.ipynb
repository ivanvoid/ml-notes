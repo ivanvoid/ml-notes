{
 "cells": [
  {
   "cell_type": "markdown",
   "metadata": {},
   "source": [
    "# MNIST LSTM"
   ]
  },
  {
   "cell_type": "code",
   "execution_count": 33,
   "metadata": {},
   "outputs": [],
   "source": [
    "'''\n",
    "Loading necessary libraries\n",
    "'''\n",
    "import torch\n",
    "import torch.nn as nn\n",
    "import torchvision\n",
    "import torchvision.transforms as transforms"
   ]
  },
  {
   "cell_type": "code",
   "execution_count": 34,
   "metadata": {},
   "outputs": [],
   "source": [
    "'''\n",
    "Setup parameters\n",
    "'''\n",
    "device = torch.device('cuda:0' if torch.cuda.is_available() else 'cpu')\n",
    "\n",
    "n_epochs = 10\n",
    "n_classes = 10\n",
    "batch_size = 100\n",
    "lr = 1e-3\n",
    "\n",
    "squence_length = 28\n",
    "input_size = 28\n",
    "hidden_size = 128\n",
    "n_layers = 2"
   ]
  },
  {
   "cell_type": "code",
   "execution_count": 35,
   "metadata": {},
   "outputs": [],
   "source": [
    "'''\n",
    "Loading MNIST dataset\n",
    "'''\n",
    "# Datasets\n",
    "train_dataset = torchvision.datasets.MNIST(root='./data/mnist', \n",
    "                                           train=True,\n",
    "                                           download=True, \n",
    "                                           transform=transforms.ToTensor())\n",
    "\n",
    "test_dataset = torchvision.datasets.MNIST(root='./data/mnist', \n",
    "                                          train=False,\n",
    "                                          download=True, \n",
    "                                          transform=transforms.ToTensor())\n",
    "\n",
    "# Loaders\n",
    "train_loader = torch.utils.data.DataLoader(train_dataset, \n",
    "                                           batch_size=batch_size,\n",
    "                                           shuffle=True, \n",
    "                                           num_workers=12)\n",
    "\n",
    "test_loader = torch.utils.data.DataLoader(test_dataset, \n",
    "                                          batch_size=batch_size,\n",
    "                                          shuffle=False, \n",
    "                                          num_workers=12)"
   ]
  },
  {
   "cell_type": "code",
   "execution_count": 36,
   "metadata": {},
   "outputs": [],
   "source": [
    "'''\n",
    "Define model class\n",
    "'''\n",
    "class RNN(nn.Module):\n",
    "    def __init__(self, input_size, hidden_size, n_layers, n_classes):\n",
    "        super().__init__()\n",
    "        self.hidden_size = hidden_size\n",
    "        self.n_layers = n_layers\n",
    "        self.lstm = nn.LSTM(input_size, hidden_size, n_layers, batch_first=True)\n",
    "        self.fc = nn.Linear(hidden_size, n_classes)\n",
    "        \n",
    "    def forward(self, x): # (batch_size,1,28,28)\n",
    "        x = x.squeeze() # (batch_size,28,28)\n",
    "        \n",
    "        # set initial hidden and cell states\n",
    "        h0 = torch.zeros(self.n_layers, x.size(0), self.hidden_size).to(device)\n",
    "        c0 = torch.zeros(self.n_layers, x.size(0), self.hidden_size).to(device)\n",
    "        \n",
    "        # forward propagate LSTM\n",
    "        out, _ = self.lstm(x, (h0, c0)) # out: (batch_size, seq_len, hidden_size)\n",
    "        \n",
    "        # decode the hidden state of the time step\n",
    "        out = self.fc(out[:, -1, :])\n",
    "        return out\n",
    "\n",
    "model = RNN(input_size, hidden_size, n_layers, n_classes).to(device)"
   ]
  },
  {
   "cell_type": "code",
   "execution_count": 37,
   "metadata": {},
   "outputs": [],
   "source": [
    "'''\n",
    "Optimizer and Loss function\n",
    "'''\n",
    "optimizer = torch.optim.Adam(model.parameters(), lr=lr)\n",
    "loss_fn = nn.CrossEntropyLoss()"
   ]
  },
  {
   "cell_type": "code",
   "execution_count": 38,
   "metadata": {},
   "outputs": [
    {
     "name": "stdout",
     "output_type": "stream",
     "text": [
      "Epoch [1/10]-[500/600] Loss: 0.1681322455406189\n",
      "Epoch [2/10]-[500/600] Loss: 0.10740723460912704\n",
      "Epoch [3/10]-[500/600] Loss: 0.020998071879148483\n",
      "Epoch [4/10]-[500/600] Loss: 0.06228170916438103\n",
      "Epoch [5/10]-[500/600] Loss: 0.10480879992246628\n",
      "Epoch [6/10]-[500/600] Loss: 0.015044903382658958\n",
      "Epoch [7/10]-[500/600] Loss: 0.004647936671972275\n",
      "Epoch [8/10]-[500/600] Loss: 0.04443446174263954\n",
      "Epoch [9/10]-[500/600] Loss: 0.02333558164536953\n",
      "Epoch [10/10]-[500/600] Loss: 0.008905739523470402\n"
     ]
    }
   ],
   "source": [
    "'''\n",
    "Train the model\n",
    "'''\n",
    "total_step = len(train_loader)\n",
    "for epoch in range(n_epochs):\n",
    "    for i, (images, labels) in enumerate(train_loader):\n",
    "        images = images.to(device) \n",
    "        labels = labels.to(device)\n",
    "        \n",
    "        # forward\n",
    "        outputs = model(images)\n",
    "        loss = loss_fn(outputs, labels)\n",
    "        \n",
    "        # backward\n",
    "        optimizer.zero_grad()\n",
    "        loss.backward()\n",
    "        optimizer.step()\n",
    "        \n",
    "        if (i+1)%500==0:\n",
    "            print('Epoch [{}/{}]-[{}/{}] Loss: {}'\n",
    "                 .format(epoch+1, n_epochs, i+1, total_step, loss.item()))\n",
    "        "
   ]
  },
  {
   "cell_type": "code",
   "execution_count": 39,
   "metadata": {},
   "outputs": [
    {
     "name": "stdout",
     "output_type": "stream",
     "text": [
      "Accuracy of the model on test data: 10.2%\n"
     ]
    }
   ],
   "source": [
    "'''\n",
    "Test the model\n",
    "'''\n",
    "model.eval()\n",
    "with torch.no_grad():\n",
    "    correct = 0\n",
    "    total = 0\n",
    "    for images, labels in test_loader:\n",
    "        images = images.to(device)\n",
    "        labels = labels.to(device)\n",
    "        output = model(images)\n",
    "        _, predicted = torch.max(outputs.data, 1)\n",
    "        total += labels.size(0)\n",
    "        correct += (predicted == labels).sum().item()\n",
    "    print('Accuracy of the model on test data: {}%'.format(100*correct/total))\n"
   ]
  }
 ],
 "metadata": {
  "kernelspec": {
   "display_name": "Python 3",
   "language": "python",
   "name": "python3"
  },
  "language_info": {
   "codemirror_mode": {
    "name": "ipython",
    "version": 3
   },
   "file_extension": ".py",
   "mimetype": "text/x-python",
   "name": "python",
   "nbconvert_exporter": "python",
   "pygments_lexer": "ipython3",
   "version": "3.7.7"
  }
 },
 "nbformat": 4,
 "nbformat_minor": 4
}
